{
 "cells": [
  {
   "cell_type": "markdown",
   "id": "0d233fbf-1f14-40f6-b830-36c560e10bb7",
   "metadata": {},
   "source": [
    "# Continuity Equation\n",
    "\n",
    "We look to solve the continuity equation for a given flow for a one dimensional flow.\n",
    "\n",
    "$$ u_1 \\rho_1 = u_2\\rho_2$$"
   ]
  },
  {
   "cell_type": "code",
   "execution_count": 1,
   "id": "94253b9a-5d26-4f77-9132-b95c573239c5",
   "metadata": {},
   "outputs": [],
   "source": [
    "import numpy as np\n",
    "import matplotlib\n",
    "import matplotlib.pyplot as plt"
   ]
  },
  {
   "cell_type": "code",
   "execution_count": null,
   "id": "276f3e58-620b-485a-9ff5-d3f3d6b16f43",
   "metadata": {},
   "outputs": [],
   "source": []
  }
 ],
 "metadata": {
  "kernelspec": {
   "display_name": "Python 3 (ipykernel)",
   "language": "python",
   "name": "python3"
  },
  "language_info": {
   "codemirror_mode": {
    "name": "ipython",
    "version": 3
   },
   "file_extension": ".py",
   "mimetype": "text/x-python",
   "name": "python",
   "nbconvert_exporter": "python",
   "pygments_lexer": "ipython3",
   "version": "3.12.1"
  }
 },
 "nbformat": 4,
 "nbformat_minor": 5
}
