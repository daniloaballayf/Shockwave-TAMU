{
 "cells": [
  {
   "cell_type": "markdown",
   "id": "c8c63480-6231-48a9-b977-784ba0d43652",
   "metadata": {},
   "source": [
    "# Shockwave"
   ]
  },
  {
   "cell_type": "code",
   "execution_count": null,
   "id": "f010bef3-aa1b-4481-9b9a-8ed790d4d24b",
   "metadata": {},
   "outputs": [],
   "source": []
  }
 ],
 "metadata": {
  "kernelspec": {
   "display_name": "Python 3 (ipykernel)",
   "language": "python",
   "name": "python3"
  },
  "language_info": {
   "codemirror_mode": {
    "name": "ipython",
    "version": 3
   },
   "file_extension": ".py",
   "mimetype": "text/x-python",
   "name": "python",
   "nbconvert_exporter": "python",
   "pygments_lexer": "ipython3",
   "version": "3.11.7"
  }
 },
 "nbformat": 4,
 "nbformat_minor": 5
}
